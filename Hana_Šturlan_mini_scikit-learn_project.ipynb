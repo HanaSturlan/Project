{
 "cells": [
  {
   "cell_type": "code",
   "execution_count": 1,
   "metadata": {},
   "outputs": [
    {
     "name": "stderr",
     "output_type": "stream",
     "text": [
      "C:\\Users\\Hana\\Anaconda3\\lib\\site-packages\\sklearn\\ensemble\\weight_boosting.py:29: DeprecationWarning: numpy.core.umath_tests is an internal NumPy module and should not be imported. It will be removed in a future NumPy release.\n",
      "  from numpy.core.umath_tests import inner1d\n"
     ]
    }
   ],
   "source": [
    "#Libraries\n",
    "import pandas as pd\n",
    "import numpy as np\n",
    "import seaborn as sns #sits on top of matplotlib\n",
    "import matplotlib.pyplot as plt\n",
    "from sklearn.ensemble import RandomForestClassifier\n",
    "from sklearn.svm import SVC\n",
    "from sklearn import svm\n",
    "from sklearn.neural_network import MLPClassifier\n",
    "from sklearn.metrics import confusion_matrix, classification_report\n",
    "from sklearn.preprocessing import StandardScaler, LabelEncoder\n",
    "from sklearn.model_selection import train_test_split\n",
    "%matplotlib inline"
   ]
  },
  {
   "cell_type": "code",
   "execution_count": 2,
   "metadata": {},
   "outputs": [],
   "source": [
    "fertility=pd.read_csv('Data/fertility.csv')"
   ]
  },
  {
   "cell_type": "code",
   "execution_count": 3,
   "metadata": {},
   "outputs": [
    {
     "data": {
      "text/html": [
       "<div>\n",
       "<style scoped>\n",
       "    .dataframe tbody tr th:only-of-type {\n",
       "        vertical-align: middle;\n",
       "    }\n",
       "\n",
       "    .dataframe tbody tr th {\n",
       "        vertical-align: top;\n",
       "    }\n",
       "\n",
       "    .dataframe thead th {\n",
       "        text-align: right;\n",
       "    }\n",
       "</style>\n",
       "<table border=\"1\" class=\"dataframe\">\n",
       "  <thead>\n",
       "    <tr style=\"text-align: right;\">\n",
       "      <th></th>\n",
       "      <th>Season</th>\n",
       "      <th>Age</th>\n",
       "      <th>Childish diseases</th>\n",
       "      <th>Accident or serious trauma</th>\n",
       "      <th>Surgical intervention</th>\n",
       "      <th>High fevers in the last year</th>\n",
       "      <th>Frequency of alcohol consumption</th>\n",
       "      <th>Smoking habit</th>\n",
       "      <th>Number of hours spent sitting per day</th>\n",
       "      <th>Diagnosis</th>\n",
       "    </tr>\n",
       "  </thead>\n",
       "  <tbody>\n",
       "    <tr>\n",
       "      <th>0</th>\n",
       "      <td>spring</td>\n",
       "      <td>30</td>\n",
       "      <td>no</td>\n",
       "      <td>yes</td>\n",
       "      <td>yes</td>\n",
       "      <td>more than 3 months ago</td>\n",
       "      <td>once a week</td>\n",
       "      <td>occasional</td>\n",
       "      <td>16</td>\n",
       "      <td>Normal</td>\n",
       "    </tr>\n",
       "    <tr>\n",
       "      <th>1</th>\n",
       "      <td>spring</td>\n",
       "      <td>35</td>\n",
       "      <td>yes</td>\n",
       "      <td>no</td>\n",
       "      <td>yes</td>\n",
       "      <td>more than 3 months ago</td>\n",
       "      <td>once a week</td>\n",
       "      <td>daily</td>\n",
       "      <td>6</td>\n",
       "      <td>Altered</td>\n",
       "    </tr>\n",
       "    <tr>\n",
       "      <th>2</th>\n",
       "      <td>spring</td>\n",
       "      <td>27</td>\n",
       "      <td>yes</td>\n",
       "      <td>no</td>\n",
       "      <td>no</td>\n",
       "      <td>more than 3 months ago</td>\n",
       "      <td>hardly ever or never</td>\n",
       "      <td>never</td>\n",
       "      <td>9</td>\n",
       "      <td>Normal</td>\n",
       "    </tr>\n",
       "    <tr>\n",
       "      <th>3</th>\n",
       "      <td>spring</td>\n",
       "      <td>32</td>\n",
       "      <td>no</td>\n",
       "      <td>yes</td>\n",
       "      <td>yes</td>\n",
       "      <td>more than 3 months ago</td>\n",
       "      <td>hardly ever or never</td>\n",
       "      <td>never</td>\n",
       "      <td>7</td>\n",
       "      <td>Normal</td>\n",
       "    </tr>\n",
       "    <tr>\n",
       "      <th>4</th>\n",
       "      <td>spring</td>\n",
       "      <td>30</td>\n",
       "      <td>yes</td>\n",
       "      <td>yes</td>\n",
       "      <td>no</td>\n",
       "      <td>more than 3 months ago</td>\n",
       "      <td>once a week</td>\n",
       "      <td>never</td>\n",
       "      <td>9</td>\n",
       "      <td>Altered</td>\n",
       "    </tr>\n",
       "  </tbody>\n",
       "</table>\n",
       "</div>"
      ],
      "text/plain": [
       "   Season  Age Childish diseases Accident or serious trauma  \\\n",
       "0  spring   30                no                        yes   \n",
       "1  spring   35               yes                         no   \n",
       "2  spring   27               yes                         no   \n",
       "3  spring   32                no                        yes   \n",
       "4  spring   30               yes                        yes   \n",
       "\n",
       "  Surgical intervention High fevers in the last year  \\\n",
       "0                   yes       more than 3 months ago   \n",
       "1                   yes       more than 3 months ago   \n",
       "2                    no       more than 3 months ago   \n",
       "3                   yes       more than 3 months ago   \n",
       "4                    no       more than 3 months ago   \n",
       "\n",
       "  Frequency of alcohol consumption Smoking habit  \\\n",
       "0                      once a week    occasional   \n",
       "1                      once a week         daily   \n",
       "2             hardly ever or never         never   \n",
       "3             hardly ever or never         never   \n",
       "4                      once a week         never   \n",
       "\n",
       "   Number of hours spent sitting per day Diagnosis  \n",
       "0                                     16    Normal  \n",
       "1                                      6   Altered  \n",
       "2                                      9    Normal  \n",
       "3                                      7    Normal  \n",
       "4                                      9   Altered  "
      ]
     },
     "execution_count": 3,
     "metadata": {},
     "output_type": "execute_result"
    }
   ],
   "source": [
    "fertility.head()"
   ]
  },
  {
   "cell_type": "code",
   "execution_count": 4,
   "metadata": {},
   "outputs": [
    {
     "name": "stdout",
     "output_type": "stream",
     "text": [
      "<class 'pandas.core.frame.DataFrame'>\n",
      "RangeIndex: 100 entries, 0 to 99\n",
      "Data columns (total 10 columns):\n",
      "Season                                   100 non-null object\n",
      "Age                                      100 non-null int64\n",
      "Childish diseases                        100 non-null object\n",
      "Accident or serious trauma               100 non-null object\n",
      "Surgical intervention                    100 non-null object\n",
      "High fevers in the last year             100 non-null object\n",
      "Frequency of alcohol consumption         100 non-null object\n",
      "Smoking habit                            100 non-null object\n",
      "Number of hours spent sitting per day    100 non-null int64\n",
      "Diagnosis                                100 non-null object\n",
      "dtypes: int64(2), object(8)\n",
      "memory usage: 7.9+ KB\n"
     ]
    }
   ],
   "source": [
    "fertility.info()"
   ]
  },
  {
   "cell_type": "code",
   "execution_count": 5,
   "metadata": {},
   "outputs": [
    {
     "data": {
      "text/plain": [
       "Season                                   0\n",
       "Age                                      0\n",
       "Childish diseases                        0\n",
       "Accident or serious trauma               0\n",
       "Surgical intervention                    0\n",
       "High fevers in the last year             0\n",
       "Frequency of alcohol consumption         0\n",
       "Smoking habit                            0\n",
       "Number of hours spent sitting per day    0\n",
       "Diagnosis                                0\n",
       "dtype: int64"
      ]
     },
     "execution_count": 5,
     "metadata": {},
     "output_type": "execute_result"
    }
   ],
   "source": [
    "fertility.isnull().sum()"
   ]
  },
  {
   "cell_type": "code",
   "execution_count": 6,
   "metadata": {},
   "outputs": [],
   "source": [
    "#nema null vrijednosti!!!"
   ]
  },
  {
   "cell_type": "markdown",
   "metadata": {},
   "source": [
    "Preprocessing data!!\n",
    "\n",
    "Since the most of data is txt we need to do big job on preprocessing!"
   ]
  },
  {
   "cell_type": "code",
   "execution_count": 7,
   "metadata": {},
   "outputs": [
    {
     "data": {
      "text/plain": [
       "0     spring\n",
       "1     spring\n",
       "2     spring\n",
       "3     spring\n",
       "4     spring\n",
       "5     spring\n",
       "6     spring\n",
       "7     spring\n",
       "8       fall\n",
       "9       fall\n",
       "10      fall\n",
       "11      fall\n",
       "12      fall\n",
       "13      fall\n",
       "14      fall\n",
       "15      fall\n",
       "16      fall\n",
       "17      fall\n",
       "18      fall\n",
       "19      fall\n",
       "20      fall\n",
       "21      fall\n",
       "22      fall\n",
       "23      fall\n",
       "24      fall\n",
       "25      fall\n",
       "26      fall\n",
       "27      fall\n",
       "28      fall\n",
       "29      fall\n",
       "       ...  \n",
       "70    spring\n",
       "71    summer\n",
       "72      fall\n",
       "73    winter\n",
       "74    winter\n",
       "75    winter\n",
       "76    winter\n",
       "77    winter\n",
       "78    winter\n",
       "79    winter\n",
       "80    spring\n",
       "81    winter\n",
       "82    spring\n",
       "83    spring\n",
       "84    spring\n",
       "85    spring\n",
       "86    spring\n",
       "87    spring\n",
       "88    spring\n",
       "89    spring\n",
       "90    spring\n",
       "91    summer\n",
       "92    summer\n",
       "93    summer\n",
       "94      fall\n",
       "95    winter\n",
       "96    winter\n",
       "97    winter\n",
       "98    winter\n",
       "99    winter\n",
       "Name: Season, Length: 100, dtype: object"
      ]
     },
     "execution_count": 7,
     "metadata": {},
     "output_type": "execute_result"
    }
   ],
   "source": [
    "#first column!\n",
    "\n",
    "fertility['Season']"
   ]
  },
  {
   "cell_type": "code",
   "execution_count": 8,
   "metadata": {},
   "outputs": [],
   "source": [
    "# we see we have spring, summer, fall and winter! so we need instead of words make i to numbers!"
   ]
  },
  {
   "cell_type": "code",
   "execution_count": 10,
   "metadata": {},
   "outputs": [],
   "source": [
    "label_season=LabelEncoder()\n",
    "fertility['Season']=label_season.fit_transform(fertility['Season'])"
   ]
  },
  {
   "cell_type": "code",
   "execution_count": 12,
   "metadata": {},
   "outputs": [
    {
     "data": {
      "text/plain": [
       "0     1\n",
       "1     1\n",
       "2     1\n",
       "3     1\n",
       "4     1\n",
       "5     1\n",
       "6     1\n",
       "7     1\n",
       "8     0\n",
       "9     0\n",
       "10    0\n",
       "11    0\n",
       "12    0\n",
       "13    0\n",
       "14    0\n",
       "15    0\n",
       "16    0\n",
       "17    0\n",
       "18    0\n",
       "19    0\n",
       "20    0\n",
       "21    0\n",
       "22    0\n",
       "23    0\n",
       "24    0\n",
       "25    0\n",
       "26    0\n",
       "27    0\n",
       "28    0\n",
       "29    0\n",
       "     ..\n",
       "70    1\n",
       "71    2\n",
       "72    0\n",
       "73    3\n",
       "74    3\n",
       "75    3\n",
       "76    3\n",
       "77    3\n",
       "78    3\n",
       "79    3\n",
       "80    1\n",
       "81    3\n",
       "82    1\n",
       "83    1\n",
       "84    1\n",
       "85    1\n",
       "86    1\n",
       "87    1\n",
       "88    1\n",
       "89    1\n",
       "90    1\n",
       "91    2\n",
       "92    2\n",
       "93    2\n",
       "94    0\n",
       "95    3\n",
       "96    3\n",
       "97    3\n",
       "98    3\n",
       "99    3\n",
       "Name: Season, Length: 100, dtype: int64"
      ]
     },
     "execution_count": 12,
     "metadata": {},
     "output_type": "execute_result"
    }
   ],
   "source": [
    "fertility['Season'] # 0-Fall, 1-spring, 2-summer, 3-winter"
   ]
  },
  {
   "cell_type": "code",
   "execution_count": 13,
   "metadata": {},
   "outputs": [],
   "source": [
    "# now we check for child deseases"
   ]
  },
  {
   "cell_type": "code",
   "execution_count": 14,
   "metadata": {},
   "outputs": [
    {
     "data": {
      "text/plain": [
       "0      no\n",
       "1     yes\n",
       "2     yes\n",
       "3      no\n",
       "4     yes\n",
       "5     yes\n",
       "6      no\n",
       "7     yes\n",
       "8      no\n",
       "9     yes\n",
       "10    yes\n",
       "11    yes\n",
       "12    yes\n",
       "13    yes\n",
       "14    yes\n",
       "15    yes\n",
       "16    yes\n",
       "17    yes\n",
       "18    yes\n",
       "19    yes\n",
       "20     no\n",
       "21    yes\n",
       "22    yes\n",
       "23    yes\n",
       "24    yes\n",
       "25    yes\n",
       "26    yes\n",
       "27    yes\n",
       "28     no\n",
       "29     no\n",
       "     ... \n",
       "70    yes\n",
       "71    yes\n",
       "72    yes\n",
       "73    yes\n",
       "74    yes\n",
       "75    yes\n",
       "76    yes\n",
       "77    yes\n",
       "78    yes\n",
       "79    yes\n",
       "80    yes\n",
       "81    yes\n",
       "82    yes\n",
       "83    yes\n",
       "84    yes\n",
       "85    yes\n",
       "86    yes\n",
       "87    yes\n",
       "88    yes\n",
       "89    yes\n",
       "90    yes\n",
       "91    yes\n",
       "92    yes\n",
       "93    yes\n",
       "94    yes\n",
       "95    yes\n",
       "96    yes\n",
       "97    yes\n",
       "98    yes\n",
       "99     no\n",
       "Name: Childish diseases, Length: 100, dtype: object"
      ]
     },
     "execution_count": 14,
     "metadata": {},
     "output_type": "execute_result"
    }
   ],
   "source": [
    "fertility['Childish diseases']"
   ]
  },
  {
   "cell_type": "code",
   "execution_count": 15,
   "metadata": {},
   "outputs": [],
   "source": [
    "label_disease=LabelEncoder()\n",
    "fertility['Childish diseases']=label_disease.fit_transform(fertility['Childish diseases'])"
   ]
  },
  {
   "cell_type": "code",
   "execution_count": 16,
   "metadata": {},
   "outputs": [
    {
     "data": {
      "text/html": [
       "<div>\n",
       "<style scoped>\n",
       "    .dataframe tbody tr th:only-of-type {\n",
       "        vertical-align: middle;\n",
       "    }\n",
       "\n",
       "    .dataframe tbody tr th {\n",
       "        vertical-align: top;\n",
       "    }\n",
       "\n",
       "    .dataframe thead th {\n",
       "        text-align: right;\n",
       "    }\n",
       "</style>\n",
       "<table border=\"1\" class=\"dataframe\">\n",
       "  <thead>\n",
       "    <tr style=\"text-align: right;\">\n",
       "      <th></th>\n",
       "      <th>Season</th>\n",
       "      <th>Age</th>\n",
       "      <th>Childish diseases</th>\n",
       "      <th>Accident or serious trauma</th>\n",
       "      <th>Surgical intervention</th>\n",
       "      <th>High fevers in the last year</th>\n",
       "      <th>Frequency of alcohol consumption</th>\n",
       "      <th>Smoking habit</th>\n",
       "      <th>Number of hours spent sitting per day</th>\n",
       "      <th>Diagnosis</th>\n",
       "    </tr>\n",
       "  </thead>\n",
       "  <tbody>\n",
       "    <tr>\n",
       "      <th>0</th>\n",
       "      <td>1</td>\n",
       "      <td>30</td>\n",
       "      <td>0</td>\n",
       "      <td>yes</td>\n",
       "      <td>yes</td>\n",
       "      <td>more than 3 months ago</td>\n",
       "      <td>once a week</td>\n",
       "      <td>occasional</td>\n",
       "      <td>16</td>\n",
       "      <td>Normal</td>\n",
       "    </tr>\n",
       "    <tr>\n",
       "      <th>1</th>\n",
       "      <td>1</td>\n",
       "      <td>35</td>\n",
       "      <td>1</td>\n",
       "      <td>no</td>\n",
       "      <td>yes</td>\n",
       "      <td>more than 3 months ago</td>\n",
       "      <td>once a week</td>\n",
       "      <td>daily</td>\n",
       "      <td>6</td>\n",
       "      <td>Altered</td>\n",
       "    </tr>\n",
       "    <tr>\n",
       "      <th>2</th>\n",
       "      <td>1</td>\n",
       "      <td>27</td>\n",
       "      <td>1</td>\n",
       "      <td>no</td>\n",
       "      <td>no</td>\n",
       "      <td>more than 3 months ago</td>\n",
       "      <td>hardly ever or never</td>\n",
       "      <td>never</td>\n",
       "      <td>9</td>\n",
       "      <td>Normal</td>\n",
       "    </tr>\n",
       "    <tr>\n",
       "      <th>3</th>\n",
       "      <td>1</td>\n",
       "      <td>32</td>\n",
       "      <td>0</td>\n",
       "      <td>yes</td>\n",
       "      <td>yes</td>\n",
       "      <td>more than 3 months ago</td>\n",
       "      <td>hardly ever or never</td>\n",
       "      <td>never</td>\n",
       "      <td>7</td>\n",
       "      <td>Normal</td>\n",
       "    </tr>\n",
       "    <tr>\n",
       "      <th>4</th>\n",
       "      <td>1</td>\n",
       "      <td>30</td>\n",
       "      <td>1</td>\n",
       "      <td>yes</td>\n",
       "      <td>no</td>\n",
       "      <td>more than 3 months ago</td>\n",
       "      <td>once a week</td>\n",
       "      <td>never</td>\n",
       "      <td>9</td>\n",
       "      <td>Altered</td>\n",
       "    </tr>\n",
       "  </tbody>\n",
       "</table>\n",
       "</div>"
      ],
      "text/plain": [
       "   Season  Age  Childish diseases Accident or serious trauma  \\\n",
       "0       1   30                  0                        yes   \n",
       "1       1   35                  1                         no   \n",
       "2       1   27                  1                         no   \n",
       "3       1   32                  0                        yes   \n",
       "4       1   30                  1                        yes   \n",
       "\n",
       "  Surgical intervention High fevers in the last year  \\\n",
       "0                   yes       more than 3 months ago   \n",
       "1                   yes       more than 3 months ago   \n",
       "2                    no       more than 3 months ago   \n",
       "3                   yes       more than 3 months ago   \n",
       "4                    no       more than 3 months ago   \n",
       "\n",
       "  Frequency of alcohol consumption Smoking habit  \\\n",
       "0                      once a week    occasional   \n",
       "1                      once a week         daily   \n",
       "2             hardly ever or never         never   \n",
       "3             hardly ever or never         never   \n",
       "4                      once a week         never   \n",
       "\n",
       "   Number of hours spent sitting per day Diagnosis  \n",
       "0                                     16    Normal  \n",
       "1                                      6   Altered  \n",
       "2                                      9    Normal  \n",
       "3                                      7    Normal  \n",
       "4                                      9   Altered  "
      ]
     },
     "execution_count": 16,
     "metadata": {},
     "output_type": "execute_result"
    }
   ],
   "source": [
    "fertility.head(5)"
   ]
  },
  {
   "cell_type": "code",
   "execution_count": 17,
   "metadata": {},
   "outputs": [],
   "source": [
    "# 0- no, 1 - yes!!"
   ]
  },
  {
   "cell_type": "code",
   "execution_count": 18,
   "metadata": {},
   "outputs": [],
   "source": [
    "#same for accident of derious trauma!!"
   ]
  },
  {
   "cell_type": "code",
   "execution_count": 19,
   "metadata": {},
   "outputs": [],
   "source": [
    "label_trauma=LabelEncoder()\n",
    "fertility['Accident or serious trauma']=label_trauma.fit_transform(fertility['Accident or serious trauma'])"
   ]
  },
  {
   "cell_type": "code",
   "execution_count": 20,
   "metadata": {},
   "outputs": [
    {
     "data": {
      "text/html": [
       "<div>\n",
       "<style scoped>\n",
       "    .dataframe tbody tr th:only-of-type {\n",
       "        vertical-align: middle;\n",
       "    }\n",
       "\n",
       "    .dataframe tbody tr th {\n",
       "        vertical-align: top;\n",
       "    }\n",
       "\n",
       "    .dataframe thead th {\n",
       "        text-align: right;\n",
       "    }\n",
       "</style>\n",
       "<table border=\"1\" class=\"dataframe\">\n",
       "  <thead>\n",
       "    <tr style=\"text-align: right;\">\n",
       "      <th></th>\n",
       "      <th>Season</th>\n",
       "      <th>Age</th>\n",
       "      <th>Childish diseases</th>\n",
       "      <th>Accident or serious trauma</th>\n",
       "      <th>Surgical intervention</th>\n",
       "      <th>High fevers in the last year</th>\n",
       "      <th>Frequency of alcohol consumption</th>\n",
       "      <th>Smoking habit</th>\n",
       "      <th>Number of hours spent sitting per day</th>\n",
       "      <th>Diagnosis</th>\n",
       "    </tr>\n",
       "  </thead>\n",
       "  <tbody>\n",
       "    <tr>\n",
       "      <th>0</th>\n",
       "      <td>1</td>\n",
       "      <td>30</td>\n",
       "      <td>0</td>\n",
       "      <td>1</td>\n",
       "      <td>yes</td>\n",
       "      <td>more than 3 months ago</td>\n",
       "      <td>once a week</td>\n",
       "      <td>occasional</td>\n",
       "      <td>16</td>\n",
       "      <td>Normal</td>\n",
       "    </tr>\n",
       "    <tr>\n",
       "      <th>1</th>\n",
       "      <td>1</td>\n",
       "      <td>35</td>\n",
       "      <td>1</td>\n",
       "      <td>0</td>\n",
       "      <td>yes</td>\n",
       "      <td>more than 3 months ago</td>\n",
       "      <td>once a week</td>\n",
       "      <td>daily</td>\n",
       "      <td>6</td>\n",
       "      <td>Altered</td>\n",
       "    </tr>\n",
       "    <tr>\n",
       "      <th>2</th>\n",
       "      <td>1</td>\n",
       "      <td>27</td>\n",
       "      <td>1</td>\n",
       "      <td>0</td>\n",
       "      <td>no</td>\n",
       "      <td>more than 3 months ago</td>\n",
       "      <td>hardly ever or never</td>\n",
       "      <td>never</td>\n",
       "      <td>9</td>\n",
       "      <td>Normal</td>\n",
       "    </tr>\n",
       "    <tr>\n",
       "      <th>3</th>\n",
       "      <td>1</td>\n",
       "      <td>32</td>\n",
       "      <td>0</td>\n",
       "      <td>1</td>\n",
       "      <td>yes</td>\n",
       "      <td>more than 3 months ago</td>\n",
       "      <td>hardly ever or never</td>\n",
       "      <td>never</td>\n",
       "      <td>7</td>\n",
       "      <td>Normal</td>\n",
       "    </tr>\n",
       "    <tr>\n",
       "      <th>4</th>\n",
       "      <td>1</td>\n",
       "      <td>30</td>\n",
       "      <td>1</td>\n",
       "      <td>1</td>\n",
       "      <td>no</td>\n",
       "      <td>more than 3 months ago</td>\n",
       "      <td>once a week</td>\n",
       "      <td>never</td>\n",
       "      <td>9</td>\n",
       "      <td>Altered</td>\n",
       "    </tr>\n",
       "  </tbody>\n",
       "</table>\n",
       "</div>"
      ],
      "text/plain": [
       "   Season  Age  Childish diseases  Accident or serious trauma  \\\n",
       "0       1   30                  0                           1   \n",
       "1       1   35                  1                           0   \n",
       "2       1   27                  1                           0   \n",
       "3       1   32                  0                           1   \n",
       "4       1   30                  1                           1   \n",
       "\n",
       "  Surgical intervention High fevers in the last year  \\\n",
       "0                   yes       more than 3 months ago   \n",
       "1                   yes       more than 3 months ago   \n",
       "2                    no       more than 3 months ago   \n",
       "3                   yes       more than 3 months ago   \n",
       "4                    no       more than 3 months ago   \n",
       "\n",
       "  Frequency of alcohol consumption Smoking habit  \\\n",
       "0                      once a week    occasional   \n",
       "1                      once a week         daily   \n",
       "2             hardly ever or never         never   \n",
       "3             hardly ever or never         never   \n",
       "4                      once a week         never   \n",
       "\n",
       "   Number of hours spent sitting per day Diagnosis  \n",
       "0                                     16    Normal  \n",
       "1                                      6   Altered  \n",
       "2                                      9    Normal  \n",
       "3                                      7    Normal  \n",
       "4                                      9   Altered  "
      ]
     },
     "execution_count": 20,
     "metadata": {},
     "output_type": "execute_result"
    }
   ],
   "source": [
    "fertility.head(5)"
   ]
  },
  {
   "cell_type": "code",
   "execution_count": 21,
   "metadata": {},
   "outputs": [],
   "source": [
    "# again, 0- no, 1- yes"
   ]
  },
  {
   "cell_type": "code",
   "execution_count": 22,
   "metadata": {},
   "outputs": [],
   "source": [
    "label_intervention=LabelEncoder()\n",
    "fertility['Surgical intervention']=label_intervention.fit_transform(fertility['Surgical intervention'])"
   ]
  },
  {
   "cell_type": "code",
   "execution_count": 23,
   "metadata": {},
   "outputs": [
    {
     "data": {
      "text/html": [
       "<div>\n",
       "<style scoped>\n",
       "    .dataframe tbody tr th:only-of-type {\n",
       "        vertical-align: middle;\n",
       "    }\n",
       "\n",
       "    .dataframe tbody tr th {\n",
       "        vertical-align: top;\n",
       "    }\n",
       "\n",
       "    .dataframe thead th {\n",
       "        text-align: right;\n",
       "    }\n",
       "</style>\n",
       "<table border=\"1\" class=\"dataframe\">\n",
       "  <thead>\n",
       "    <tr style=\"text-align: right;\">\n",
       "      <th></th>\n",
       "      <th>Season</th>\n",
       "      <th>Age</th>\n",
       "      <th>Childish diseases</th>\n",
       "      <th>Accident or serious trauma</th>\n",
       "      <th>Surgical intervention</th>\n",
       "      <th>High fevers in the last year</th>\n",
       "      <th>Frequency of alcohol consumption</th>\n",
       "      <th>Smoking habit</th>\n",
       "      <th>Number of hours spent sitting per day</th>\n",
       "      <th>Diagnosis</th>\n",
       "    </tr>\n",
       "  </thead>\n",
       "  <tbody>\n",
       "    <tr>\n",
       "      <th>0</th>\n",
       "      <td>1</td>\n",
       "      <td>30</td>\n",
       "      <td>0</td>\n",
       "      <td>1</td>\n",
       "      <td>1</td>\n",
       "      <td>more than 3 months ago</td>\n",
       "      <td>once a week</td>\n",
       "      <td>occasional</td>\n",
       "      <td>16</td>\n",
       "      <td>Normal</td>\n",
       "    </tr>\n",
       "    <tr>\n",
       "      <th>1</th>\n",
       "      <td>1</td>\n",
       "      <td>35</td>\n",
       "      <td>1</td>\n",
       "      <td>0</td>\n",
       "      <td>1</td>\n",
       "      <td>more than 3 months ago</td>\n",
       "      <td>once a week</td>\n",
       "      <td>daily</td>\n",
       "      <td>6</td>\n",
       "      <td>Altered</td>\n",
       "    </tr>\n",
       "    <tr>\n",
       "      <th>2</th>\n",
       "      <td>1</td>\n",
       "      <td>27</td>\n",
       "      <td>1</td>\n",
       "      <td>0</td>\n",
       "      <td>0</td>\n",
       "      <td>more than 3 months ago</td>\n",
       "      <td>hardly ever or never</td>\n",
       "      <td>never</td>\n",
       "      <td>9</td>\n",
       "      <td>Normal</td>\n",
       "    </tr>\n",
       "  </tbody>\n",
       "</table>\n",
       "</div>"
      ],
      "text/plain": [
       "   Season  Age  Childish diseases  Accident or serious trauma  \\\n",
       "0       1   30                  0                           1   \n",
       "1       1   35                  1                           0   \n",
       "2       1   27                  1                           0   \n",
       "\n",
       "   Surgical intervention High fevers in the last year  \\\n",
       "0                      1       more than 3 months ago   \n",
       "1                      1       more than 3 months ago   \n",
       "2                      0       more than 3 months ago   \n",
       "\n",
       "  Frequency of alcohol consumption Smoking habit  \\\n",
       "0                      once a week    occasional   \n",
       "1                      once a week         daily   \n",
       "2             hardly ever or never         never   \n",
       "\n",
       "   Number of hours spent sitting per day Diagnosis  \n",
       "0                                     16    Normal  \n",
       "1                                      6   Altered  \n",
       "2                                      9    Normal  "
      ]
     },
     "execution_count": 23,
     "metadata": {},
     "output_type": "execute_result"
    }
   ],
   "source": [
    "fertility.head(3)"
   ]
  },
  {
   "cell_type": "code",
   "execution_count": 24,
   "metadata": {},
   "outputs": [],
   "source": [
    "# again, 0- no, 1- yes"
   ]
  },
  {
   "cell_type": "code",
   "execution_count": 25,
   "metadata": {},
   "outputs": [],
   "source": [
    "# now explore fevers , how many options we have?"
   ]
  },
  {
   "cell_type": "code",
   "execution_count": 26,
   "metadata": {},
   "outputs": [
    {
     "data": {
      "text/plain": [
       "0     more than 3 months ago\n",
       "1     more than 3 months ago\n",
       "2     more than 3 months ago\n",
       "3     more than 3 months ago\n",
       "4     more than 3 months ago\n",
       "5     more than 3 months ago\n",
       "6     less than 3 months ago\n",
       "7     more than 3 months ago\n",
       "8     more than 3 months ago\n",
       "9     more than 3 months ago\n",
       "10    less than 3 months ago\n",
       "11    more than 3 months ago\n",
       "12    more than 3 months ago\n",
       "13    more than 3 months ago\n",
       "14    more than 3 months ago\n",
       "15    more than 3 months ago\n",
       "16    more than 3 months ago\n",
       "17    more than 3 months ago\n",
       "18    more than 3 months ago\n",
       "19    more than 3 months ago\n",
       "20    more than 3 months ago\n",
       "21    more than 3 months ago\n",
       "22    more than 3 months ago\n",
       "23    less than 3 months ago\n",
       "24    more than 3 months ago\n",
       "25    more than 3 months ago\n",
       "26    more than 3 months ago\n",
       "27                        no\n",
       "28    more than 3 months ago\n",
       "29    more than 3 months ago\n",
       "               ...          \n",
       "70    less than 3 months ago\n",
       "71                        no\n",
       "72                        no\n",
       "73                        no\n",
       "74                        no\n",
       "75                        no\n",
       "76                        no\n",
       "77                        no\n",
       "78                        no\n",
       "79                        no\n",
       "80                        no\n",
       "81                        no\n",
       "82                        no\n",
       "83                        no\n",
       "84                        no\n",
       "85    more than 3 months ago\n",
       "86    more than 3 months ago\n",
       "87                        no\n",
       "88    more than 3 months ago\n",
       "89    more than 3 months ago\n",
       "90                        no\n",
       "91    more than 3 months ago\n",
       "92    more than 3 months ago\n",
       "93    more than 3 months ago\n",
       "94    more than 3 months ago\n",
       "95    more than 3 months ago\n",
       "96    more than 3 months ago\n",
       "97    more than 3 months ago\n",
       "98    more than 3 months ago\n",
       "99    more than 3 months ago\n",
       "Name: High fevers in the last year, Length: 100, dtype: object"
      ]
     },
     "execution_count": 26,
     "metadata": {},
     "output_type": "execute_result"
    }
   ],
   "source": [
    "fertility['High fevers in the last year'] # again are these all? we need to use unique!"
   ]
  },
  {
   "cell_type": "code",
   "execution_count": 28,
   "metadata": {},
   "outputs": [
    {
     "data": {
      "text/plain": [
       "array(['more than 3 months ago', 'less than 3 months ago', 'no'],\n",
       "      dtype=object)"
      ]
     },
     "execution_count": 28,
     "metadata": {},
     "output_type": "execute_result"
    }
   ],
   "source": [
    "fertility['High fevers in the last year'].unique() # now we can see how many are there and now we can each case dedicate number"
   ]
  },
  {
   "cell_type": "code",
   "execution_count": 29,
   "metadata": {},
   "outputs": [],
   "source": [
    "label_fever=LabelEncoder()\n",
    "fertility['High fevers in the last year']=label_fever.fit_transform(fertility['High fevers in the last year'])"
   ]
  },
  {
   "cell_type": "code",
   "execution_count": 30,
   "metadata": {},
   "outputs": [
    {
     "data": {
      "text/plain": [
       "array([1, 0, 2], dtype=int64)"
      ]
     },
     "execution_count": 30,
     "metadata": {},
     "output_type": "execute_result"
    }
   ],
   "source": [
    "fertility['High fevers in the last year'].unique()"
   ]
  },
  {
   "cell_type": "code",
   "execution_count": 31,
   "metadata": {},
   "outputs": [],
   "source": [
    "# more than 3 months ago - 1\n",
    "# less - 0\n",
    "# no - 2"
   ]
  },
  {
   "cell_type": "code",
   "execution_count": 33,
   "metadata": {},
   "outputs": [
    {
     "data": {
      "text/html": [
       "<div>\n",
       "<style scoped>\n",
       "    .dataframe tbody tr th:only-of-type {\n",
       "        vertical-align: middle;\n",
       "    }\n",
       "\n",
       "    .dataframe tbody tr th {\n",
       "        vertical-align: top;\n",
       "    }\n",
       "\n",
       "    .dataframe thead th {\n",
       "        text-align: right;\n",
       "    }\n",
       "</style>\n",
       "<table border=\"1\" class=\"dataframe\">\n",
       "  <thead>\n",
       "    <tr style=\"text-align: right;\">\n",
       "      <th></th>\n",
       "      <th>Season</th>\n",
       "      <th>Age</th>\n",
       "      <th>Childish diseases</th>\n",
       "      <th>Accident or serious trauma</th>\n",
       "      <th>Surgical intervention</th>\n",
       "      <th>High fevers in the last year</th>\n",
       "      <th>Frequency of alcohol consumption</th>\n",
       "      <th>Smoking habit</th>\n",
       "      <th>Number of hours spent sitting per day</th>\n",
       "      <th>Diagnosis</th>\n",
       "    </tr>\n",
       "  </thead>\n",
       "  <tbody>\n",
       "    <tr>\n",
       "      <th>0</th>\n",
       "      <td>1</td>\n",
       "      <td>30</td>\n",
       "      <td>0</td>\n",
       "      <td>1</td>\n",
       "      <td>1</td>\n",
       "      <td>1</td>\n",
       "      <td>once a week</td>\n",
       "      <td>occasional</td>\n",
       "      <td>16</td>\n",
       "      <td>Normal</td>\n",
       "    </tr>\n",
       "    <tr>\n",
       "      <th>1</th>\n",
       "      <td>1</td>\n",
       "      <td>35</td>\n",
       "      <td>1</td>\n",
       "      <td>0</td>\n",
       "      <td>1</td>\n",
       "      <td>1</td>\n",
       "      <td>once a week</td>\n",
       "      <td>daily</td>\n",
       "      <td>6</td>\n",
       "      <td>Altered</td>\n",
       "    </tr>\n",
       "    <tr>\n",
       "      <th>2</th>\n",
       "      <td>1</td>\n",
       "      <td>27</td>\n",
       "      <td>1</td>\n",
       "      <td>0</td>\n",
       "      <td>0</td>\n",
       "      <td>1</td>\n",
       "      <td>hardly ever or never</td>\n",
       "      <td>never</td>\n",
       "      <td>9</td>\n",
       "      <td>Normal</td>\n",
       "    </tr>\n",
       "    <tr>\n",
       "      <th>3</th>\n",
       "      <td>1</td>\n",
       "      <td>32</td>\n",
       "      <td>0</td>\n",
       "      <td>1</td>\n",
       "      <td>1</td>\n",
       "      <td>1</td>\n",
       "      <td>hardly ever or never</td>\n",
       "      <td>never</td>\n",
       "      <td>7</td>\n",
       "      <td>Normal</td>\n",
       "    </tr>\n",
       "    <tr>\n",
       "      <th>4</th>\n",
       "      <td>1</td>\n",
       "      <td>30</td>\n",
       "      <td>1</td>\n",
       "      <td>1</td>\n",
       "      <td>0</td>\n",
       "      <td>1</td>\n",
       "      <td>once a week</td>\n",
       "      <td>never</td>\n",
       "      <td>9</td>\n",
       "      <td>Altered</td>\n",
       "    </tr>\n",
       "    <tr>\n",
       "      <th>5</th>\n",
       "      <td>1</td>\n",
       "      <td>30</td>\n",
       "      <td>1</td>\n",
       "      <td>0</td>\n",
       "      <td>1</td>\n",
       "      <td>1</td>\n",
       "      <td>once a week</td>\n",
       "      <td>occasional</td>\n",
       "      <td>9</td>\n",
       "      <td>Normal</td>\n",
       "    </tr>\n",
       "    <tr>\n",
       "      <th>6</th>\n",
       "      <td>1</td>\n",
       "      <td>30</td>\n",
       "      <td>0</td>\n",
       "      <td>0</td>\n",
       "      <td>0</td>\n",
       "      <td>0</td>\n",
       "      <td>once a week</td>\n",
       "      <td>never</td>\n",
       "      <td>8</td>\n",
       "      <td>Normal</td>\n",
       "    </tr>\n",
       "    <tr>\n",
       "      <th>7</th>\n",
       "      <td>1</td>\n",
       "      <td>36</td>\n",
       "      <td>1</td>\n",
       "      <td>1</td>\n",
       "      <td>1</td>\n",
       "      <td>1</td>\n",
       "      <td>several times a week</td>\n",
       "      <td>never</td>\n",
       "      <td>7</td>\n",
       "      <td>Normal</td>\n",
       "    </tr>\n",
       "    <tr>\n",
       "      <th>8</th>\n",
       "      <td>0</td>\n",
       "      <td>30</td>\n",
       "      <td>0</td>\n",
       "      <td>0</td>\n",
       "      <td>1</td>\n",
       "      <td>1</td>\n",
       "      <td>once a week</td>\n",
       "      <td>never</td>\n",
       "      <td>5</td>\n",
       "      <td>Normal</td>\n",
       "    </tr>\n",
       "    <tr>\n",
       "      <th>9</th>\n",
       "      <td>0</td>\n",
       "      <td>29</td>\n",
       "      <td>1</td>\n",
       "      <td>0</td>\n",
       "      <td>0</td>\n",
       "      <td>1</td>\n",
       "      <td>hardly ever or never</td>\n",
       "      <td>never</td>\n",
       "      <td>5</td>\n",
       "      <td>Normal</td>\n",
       "    </tr>\n",
       "  </tbody>\n",
       "</table>\n",
       "</div>"
      ],
      "text/plain": [
       "   Season  Age  Childish diseases  Accident or serious trauma  \\\n",
       "0       1   30                  0                           1   \n",
       "1       1   35                  1                           0   \n",
       "2       1   27                  1                           0   \n",
       "3       1   32                  0                           1   \n",
       "4       1   30                  1                           1   \n",
       "5       1   30                  1                           0   \n",
       "6       1   30                  0                           0   \n",
       "7       1   36                  1                           1   \n",
       "8       0   30                  0                           0   \n",
       "9       0   29                  1                           0   \n",
       "\n",
       "   Surgical intervention  High fevers in the last year  \\\n",
       "0                      1                             1   \n",
       "1                      1                             1   \n",
       "2                      0                             1   \n",
       "3                      1                             1   \n",
       "4                      0                             1   \n",
       "5                      1                             1   \n",
       "6                      0                             0   \n",
       "7                      1                             1   \n",
       "8                      1                             1   \n",
       "9                      0                             1   \n",
       "\n",
       "  Frequency of alcohol consumption Smoking habit  \\\n",
       "0                      once a week    occasional   \n",
       "1                      once a week         daily   \n",
       "2             hardly ever or never         never   \n",
       "3             hardly ever or never         never   \n",
       "4                      once a week         never   \n",
       "5                      once a week    occasional   \n",
       "6                      once a week         never   \n",
       "7             several times a week         never   \n",
       "8                      once a week         never   \n",
       "9             hardly ever or never         never   \n",
       "\n",
       "   Number of hours spent sitting per day Diagnosis  \n",
       "0                                     16    Normal  \n",
       "1                                      6   Altered  \n",
       "2                                      9    Normal  \n",
       "3                                      7    Normal  \n",
       "4                                      9   Altered  \n",
       "5                                      9    Normal  \n",
       "6                                      8    Normal  \n",
       "7                                      7    Normal  \n",
       "8                                      5    Normal  \n",
       "9                                      5    Normal  "
      ]
     },
     "execution_count": 33,
     "metadata": {},
     "output_type": "execute_result"
    }
   ],
   "source": [
    "fertility.head(10)"
   ]
  },
  {
   "cell_type": "code",
   "execution_count": 34,
   "metadata": {},
   "outputs": [],
   "source": [
    "# same we check for Frequency of alcohol consuption"
   ]
  },
  {
   "cell_type": "code",
   "execution_count": 35,
   "metadata": {},
   "outputs": [
    {
     "data": {
      "text/plain": [
       "array(['once a week', 'hardly ever or never', 'several times a week',\n",
       "       'several times a day', 'every day'], dtype=object)"
      ]
     },
     "execution_count": 35,
     "metadata": {},
     "output_type": "execute_result"
    }
   ],
   "source": [
    "fertility['Frequency of alcohol consumption'].unique()"
   ]
  },
  {
   "cell_type": "code",
   "execution_count": 36,
   "metadata": {},
   "outputs": [
    {
     "data": {
      "text/plain": [
       "array([2, 1, 4, 3, 0], dtype=int64)"
      ]
     },
     "execution_count": 36,
     "metadata": {},
     "output_type": "execute_result"
    }
   ],
   "source": [
    "label_alcohol=LabelEncoder()\n",
    "fertility['Frequency of alcohol consumption']=label_alcohol.fit_transform(fertility['Frequency of alcohol consumption'])\n",
    "fertility['Frequency of alcohol consumption'].unique()"
   ]
  },
  {
   "cell_type": "code",
   "execution_count": 37,
   "metadata": {},
   "outputs": [],
   "source": [
    "#'once a week' - 2, 'hardly ever or never' - 1, 'several times a week' - 4,'several times a day' - 3, 'every day' - 0"
   ]
  },
  {
   "cell_type": "code",
   "execution_count": 38,
   "metadata": {},
   "outputs": [
    {
     "data": {
      "text/html": [
       "<div>\n",
       "<style scoped>\n",
       "    .dataframe tbody tr th:only-of-type {\n",
       "        vertical-align: middle;\n",
       "    }\n",
       "\n",
       "    .dataframe tbody tr th {\n",
       "        vertical-align: top;\n",
       "    }\n",
       "\n",
       "    .dataframe thead th {\n",
       "        text-align: right;\n",
       "    }\n",
       "</style>\n",
       "<table border=\"1\" class=\"dataframe\">\n",
       "  <thead>\n",
       "    <tr style=\"text-align: right;\">\n",
       "      <th></th>\n",
       "      <th>Season</th>\n",
       "      <th>Age</th>\n",
       "      <th>Childish diseases</th>\n",
       "      <th>Accident or serious trauma</th>\n",
       "      <th>Surgical intervention</th>\n",
       "      <th>High fevers in the last year</th>\n",
       "      <th>Frequency of alcohol consumption</th>\n",
       "      <th>Smoking habit</th>\n",
       "      <th>Number of hours spent sitting per day</th>\n",
       "      <th>Diagnosis</th>\n",
       "    </tr>\n",
       "  </thead>\n",
       "  <tbody>\n",
       "    <tr>\n",
       "      <th>0</th>\n",
       "      <td>1</td>\n",
       "      <td>30</td>\n",
       "      <td>0</td>\n",
       "      <td>1</td>\n",
       "      <td>1</td>\n",
       "      <td>1</td>\n",
       "      <td>2</td>\n",
       "      <td>occasional</td>\n",
       "      <td>16</td>\n",
       "      <td>Normal</td>\n",
       "    </tr>\n",
       "    <tr>\n",
       "      <th>1</th>\n",
       "      <td>1</td>\n",
       "      <td>35</td>\n",
       "      <td>1</td>\n",
       "      <td>0</td>\n",
       "      <td>1</td>\n",
       "      <td>1</td>\n",
       "      <td>2</td>\n",
       "      <td>daily</td>\n",
       "      <td>6</td>\n",
       "      <td>Altered</td>\n",
       "    </tr>\n",
       "    <tr>\n",
       "      <th>2</th>\n",
       "      <td>1</td>\n",
       "      <td>27</td>\n",
       "      <td>1</td>\n",
       "      <td>0</td>\n",
       "      <td>0</td>\n",
       "      <td>1</td>\n",
       "      <td>1</td>\n",
       "      <td>never</td>\n",
       "      <td>9</td>\n",
       "      <td>Normal</td>\n",
       "    </tr>\n",
       "    <tr>\n",
       "      <th>3</th>\n",
       "      <td>1</td>\n",
       "      <td>32</td>\n",
       "      <td>0</td>\n",
       "      <td>1</td>\n",
       "      <td>1</td>\n",
       "      <td>1</td>\n",
       "      <td>1</td>\n",
       "      <td>never</td>\n",
       "      <td>7</td>\n",
       "      <td>Normal</td>\n",
       "    </tr>\n",
       "    <tr>\n",
       "      <th>4</th>\n",
       "      <td>1</td>\n",
       "      <td>30</td>\n",
       "      <td>1</td>\n",
       "      <td>1</td>\n",
       "      <td>0</td>\n",
       "      <td>1</td>\n",
       "      <td>2</td>\n",
       "      <td>never</td>\n",
       "      <td>9</td>\n",
       "      <td>Altered</td>\n",
       "    </tr>\n",
       "    <tr>\n",
       "      <th>5</th>\n",
       "      <td>1</td>\n",
       "      <td>30</td>\n",
       "      <td>1</td>\n",
       "      <td>0</td>\n",
       "      <td>1</td>\n",
       "      <td>1</td>\n",
       "      <td>2</td>\n",
       "      <td>occasional</td>\n",
       "      <td>9</td>\n",
       "      <td>Normal</td>\n",
       "    </tr>\n",
       "    <tr>\n",
       "      <th>6</th>\n",
       "      <td>1</td>\n",
       "      <td>30</td>\n",
       "      <td>0</td>\n",
       "      <td>0</td>\n",
       "      <td>0</td>\n",
       "      <td>0</td>\n",
       "      <td>2</td>\n",
       "      <td>never</td>\n",
       "      <td>8</td>\n",
       "      <td>Normal</td>\n",
       "    </tr>\n",
       "    <tr>\n",
       "      <th>7</th>\n",
       "      <td>1</td>\n",
       "      <td>36</td>\n",
       "      <td>1</td>\n",
       "      <td>1</td>\n",
       "      <td>1</td>\n",
       "      <td>1</td>\n",
       "      <td>4</td>\n",
       "      <td>never</td>\n",
       "      <td>7</td>\n",
       "      <td>Normal</td>\n",
       "    </tr>\n",
       "    <tr>\n",
       "      <th>8</th>\n",
       "      <td>0</td>\n",
       "      <td>30</td>\n",
       "      <td>0</td>\n",
       "      <td>0</td>\n",
       "      <td>1</td>\n",
       "      <td>1</td>\n",
       "      <td>2</td>\n",
       "      <td>never</td>\n",
       "      <td>5</td>\n",
       "      <td>Normal</td>\n",
       "    </tr>\n",
       "    <tr>\n",
       "      <th>9</th>\n",
       "      <td>0</td>\n",
       "      <td>29</td>\n",
       "      <td>1</td>\n",
       "      <td>0</td>\n",
       "      <td>0</td>\n",
       "      <td>1</td>\n",
       "      <td>1</td>\n",
       "      <td>never</td>\n",
       "      <td>5</td>\n",
       "      <td>Normal</td>\n",
       "    </tr>\n",
       "  </tbody>\n",
       "</table>\n",
       "</div>"
      ],
      "text/plain": [
       "   Season  Age  Childish diseases  Accident or serious trauma  \\\n",
       "0       1   30                  0                           1   \n",
       "1       1   35                  1                           0   \n",
       "2       1   27                  1                           0   \n",
       "3       1   32                  0                           1   \n",
       "4       1   30                  1                           1   \n",
       "5       1   30                  1                           0   \n",
       "6       1   30                  0                           0   \n",
       "7       1   36                  1                           1   \n",
       "8       0   30                  0                           0   \n",
       "9       0   29                  1                           0   \n",
       "\n",
       "   Surgical intervention  High fevers in the last year  \\\n",
       "0                      1                             1   \n",
       "1                      1                             1   \n",
       "2                      0                             1   \n",
       "3                      1                             1   \n",
       "4                      0                             1   \n",
       "5                      1                             1   \n",
       "6                      0                             0   \n",
       "7                      1                             1   \n",
       "8                      1                             1   \n",
       "9                      0                             1   \n",
       "\n",
       "   Frequency of alcohol consumption Smoking habit  \\\n",
       "0                                 2    occasional   \n",
       "1                                 2         daily   \n",
       "2                                 1         never   \n",
       "3                                 1         never   \n",
       "4                                 2         never   \n",
       "5                                 2    occasional   \n",
       "6                                 2         never   \n",
       "7                                 4         never   \n",
       "8                                 2         never   \n",
       "9                                 1         never   \n",
       "\n",
       "   Number of hours spent sitting per day Diagnosis  \n",
       "0                                     16    Normal  \n",
       "1                                      6   Altered  \n",
       "2                                      9    Normal  \n",
       "3                                      7    Normal  \n",
       "4                                      9   Altered  \n",
       "5                                      9    Normal  \n",
       "6                                      8    Normal  \n",
       "7                                      7    Normal  \n",
       "8                                      5    Normal  \n",
       "9                                      5    Normal  "
      ]
     },
     "execution_count": 38,
     "metadata": {},
     "output_type": "execute_result"
    }
   ],
   "source": [
    "fertility.head(10)"
   ]
  },
  {
   "cell_type": "code",
   "execution_count": 39,
   "metadata": {},
   "outputs": [
    {
     "data": {
      "text/plain": [
       "array(['occasional', 'daily', 'never'], dtype=object)"
      ]
     },
     "execution_count": 39,
     "metadata": {},
     "output_type": "execute_result"
    }
   ],
   "source": [
    "fertility['Smoking habit'].unique()"
   ]
  },
  {
   "cell_type": "code",
   "execution_count": 40,
   "metadata": {},
   "outputs": [
    {
     "data": {
      "text/plain": [
       "array([2, 0, 1], dtype=int64)"
      ]
     },
     "execution_count": 40,
     "metadata": {},
     "output_type": "execute_result"
    }
   ],
   "source": [
    "label_smoking=LabelEncoder()\n",
    "fertility['Smoking habit']=label_smoking.fit_transform(fertility['Smoking habit'])\n",
    "fertility['Smoking habit'].unique()"
   ]
  },
  {
   "cell_type": "code",
   "execution_count": 41,
   "metadata": {},
   "outputs": [],
   "source": [
    "# 'occasional' - 2, 'daily' - 0, 'never' - 1"
   ]
  },
  {
   "cell_type": "code",
   "execution_count": 42,
   "metadata": {},
   "outputs": [
    {
     "data": {
      "text/html": [
       "<div>\n",
       "<style scoped>\n",
       "    .dataframe tbody tr th:only-of-type {\n",
       "        vertical-align: middle;\n",
       "    }\n",
       "\n",
       "    .dataframe tbody tr th {\n",
       "        vertical-align: top;\n",
       "    }\n",
       "\n",
       "    .dataframe thead th {\n",
       "        text-align: right;\n",
       "    }\n",
       "</style>\n",
       "<table border=\"1\" class=\"dataframe\">\n",
       "  <thead>\n",
       "    <tr style=\"text-align: right;\">\n",
       "      <th></th>\n",
       "      <th>Season</th>\n",
       "      <th>Age</th>\n",
       "      <th>Childish diseases</th>\n",
       "      <th>Accident or serious trauma</th>\n",
       "      <th>Surgical intervention</th>\n",
       "      <th>High fevers in the last year</th>\n",
       "      <th>Frequency of alcohol consumption</th>\n",
       "      <th>Smoking habit</th>\n",
       "      <th>Number of hours spent sitting per day</th>\n",
       "      <th>Diagnosis</th>\n",
       "    </tr>\n",
       "  </thead>\n",
       "  <tbody>\n",
       "    <tr>\n",
       "      <th>0</th>\n",
       "      <td>1</td>\n",
       "      <td>30</td>\n",
       "      <td>0</td>\n",
       "      <td>1</td>\n",
       "      <td>1</td>\n",
       "      <td>1</td>\n",
       "      <td>2</td>\n",
       "      <td>2</td>\n",
       "      <td>16</td>\n",
       "      <td>Normal</td>\n",
       "    </tr>\n",
       "    <tr>\n",
       "      <th>1</th>\n",
       "      <td>1</td>\n",
       "      <td>35</td>\n",
       "      <td>1</td>\n",
       "      <td>0</td>\n",
       "      <td>1</td>\n",
       "      <td>1</td>\n",
       "      <td>2</td>\n",
       "      <td>0</td>\n",
       "      <td>6</td>\n",
       "      <td>Altered</td>\n",
       "    </tr>\n",
       "    <tr>\n",
       "      <th>2</th>\n",
       "      <td>1</td>\n",
       "      <td>27</td>\n",
       "      <td>1</td>\n",
       "      <td>0</td>\n",
       "      <td>0</td>\n",
       "      <td>1</td>\n",
       "      <td>1</td>\n",
       "      <td>1</td>\n",
       "      <td>9</td>\n",
       "      <td>Normal</td>\n",
       "    </tr>\n",
       "    <tr>\n",
       "      <th>3</th>\n",
       "      <td>1</td>\n",
       "      <td>32</td>\n",
       "      <td>0</td>\n",
       "      <td>1</td>\n",
       "      <td>1</td>\n",
       "      <td>1</td>\n",
       "      <td>1</td>\n",
       "      <td>1</td>\n",
       "      <td>7</td>\n",
       "      <td>Normal</td>\n",
       "    </tr>\n",
       "    <tr>\n",
       "      <th>4</th>\n",
       "      <td>1</td>\n",
       "      <td>30</td>\n",
       "      <td>1</td>\n",
       "      <td>1</td>\n",
       "      <td>0</td>\n",
       "      <td>1</td>\n",
       "      <td>2</td>\n",
       "      <td>1</td>\n",
       "      <td>9</td>\n",
       "      <td>Altered</td>\n",
       "    </tr>\n",
       "    <tr>\n",
       "      <th>5</th>\n",
       "      <td>1</td>\n",
       "      <td>30</td>\n",
       "      <td>1</td>\n",
       "      <td>0</td>\n",
       "      <td>1</td>\n",
       "      <td>1</td>\n",
       "      <td>2</td>\n",
       "      <td>2</td>\n",
       "      <td>9</td>\n",
       "      <td>Normal</td>\n",
       "    </tr>\n",
       "    <tr>\n",
       "      <th>6</th>\n",
       "      <td>1</td>\n",
       "      <td>30</td>\n",
       "      <td>0</td>\n",
       "      <td>0</td>\n",
       "      <td>0</td>\n",
       "      <td>0</td>\n",
       "      <td>2</td>\n",
       "      <td>1</td>\n",
       "      <td>8</td>\n",
       "      <td>Normal</td>\n",
       "    </tr>\n",
       "    <tr>\n",
       "      <th>7</th>\n",
       "      <td>1</td>\n",
       "      <td>36</td>\n",
       "      <td>1</td>\n",
       "      <td>1</td>\n",
       "      <td>1</td>\n",
       "      <td>1</td>\n",
       "      <td>4</td>\n",
       "      <td>1</td>\n",
       "      <td>7</td>\n",
       "      <td>Normal</td>\n",
       "    </tr>\n",
       "    <tr>\n",
       "      <th>8</th>\n",
       "      <td>0</td>\n",
       "      <td>30</td>\n",
       "      <td>0</td>\n",
       "      <td>0</td>\n",
       "      <td>1</td>\n",
       "      <td>1</td>\n",
       "      <td>2</td>\n",
       "      <td>1</td>\n",
       "      <td>5</td>\n",
       "      <td>Normal</td>\n",
       "    </tr>\n",
       "    <tr>\n",
       "      <th>9</th>\n",
       "      <td>0</td>\n",
       "      <td>29</td>\n",
       "      <td>1</td>\n",
       "      <td>0</td>\n",
       "      <td>0</td>\n",
       "      <td>1</td>\n",
       "      <td>1</td>\n",
       "      <td>1</td>\n",
       "      <td>5</td>\n",
       "      <td>Normal</td>\n",
       "    </tr>\n",
       "  </tbody>\n",
       "</table>\n",
       "</div>"
      ],
      "text/plain": [
       "   Season  Age  Childish diseases  Accident or serious trauma  \\\n",
       "0       1   30                  0                           1   \n",
       "1       1   35                  1                           0   \n",
       "2       1   27                  1                           0   \n",
       "3       1   32                  0                           1   \n",
       "4       1   30                  1                           1   \n",
       "5       1   30                  1                           0   \n",
       "6       1   30                  0                           0   \n",
       "7       1   36                  1                           1   \n",
       "8       0   30                  0                           0   \n",
       "9       0   29                  1                           0   \n",
       "\n",
       "   Surgical intervention  High fevers in the last year  \\\n",
       "0                      1                             1   \n",
       "1                      1                             1   \n",
       "2                      0                             1   \n",
       "3                      1                             1   \n",
       "4                      0                             1   \n",
       "5                      1                             1   \n",
       "6                      0                             0   \n",
       "7                      1                             1   \n",
       "8                      1                             1   \n",
       "9                      0                             1   \n",
       "\n",
       "   Frequency of alcohol consumption  Smoking habit  \\\n",
       "0                                 2              2   \n",
       "1                                 2              0   \n",
       "2                                 1              1   \n",
       "3                                 1              1   \n",
       "4                                 2              1   \n",
       "5                                 2              2   \n",
       "6                                 2              1   \n",
       "7                                 4              1   \n",
       "8                                 2              1   \n",
       "9                                 1              1   \n",
       "\n",
       "   Number of hours spent sitting per day Diagnosis  \n",
       "0                                     16    Normal  \n",
       "1                                      6   Altered  \n",
       "2                                      9    Normal  \n",
       "3                                      7    Normal  \n",
       "4                                      9   Altered  \n",
       "5                                      9    Normal  \n",
       "6                                      8    Normal  \n",
       "7                                      7    Normal  \n",
       "8                                      5    Normal  \n",
       "9                                      5    Normal  "
      ]
     },
     "execution_count": 42,
     "metadata": {},
     "output_type": "execute_result"
    }
   ],
   "source": [
    "fertility.head(10)"
   ]
  },
  {
   "cell_type": "code",
   "execution_count": 43,
   "metadata": {},
   "outputs": [],
   "source": [
    "# also we need to transform column diagnosis which we wanna find out !!!!!"
   ]
  },
  {
   "cell_type": "code",
   "execution_count": 44,
   "metadata": {},
   "outputs": [
    {
     "data": {
      "text/plain": [
       "array(['Normal', 'Altered'], dtype=object)"
      ]
     },
     "execution_count": 44,
     "metadata": {},
     "output_type": "execute_result"
    }
   ],
   "source": [
    "fertility['Diagnosis'].unique()"
   ]
  },
  {
   "cell_type": "code",
   "execution_count": 45,
   "metadata": {},
   "outputs": [
    {
     "data": {
      "text/plain": [
       "array([1, 0], dtype=int64)"
      ]
     },
     "execution_count": 45,
     "metadata": {},
     "output_type": "execute_result"
    }
   ],
   "source": [
    "label_fert=LabelEncoder()\n",
    "fertility['Diagnosis']=label_fert.fit_transform(fertility['Diagnosis'])\n",
    "fertility['Diagnosis'].unique()"
   ]
  },
  {
   "cell_type": "code",
   "execution_count": 46,
   "metadata": {},
   "outputs": [],
   "source": [
    "#'Normal' - 1, 'Altered' - 0"
   ]
  },
  {
   "cell_type": "code",
   "execution_count": 47,
   "metadata": {},
   "outputs": [
    {
     "data": {
      "text/html": [
       "<div>\n",
       "<style scoped>\n",
       "    .dataframe tbody tr th:only-of-type {\n",
       "        vertical-align: middle;\n",
       "    }\n",
       "\n",
       "    .dataframe tbody tr th {\n",
       "        vertical-align: top;\n",
       "    }\n",
       "\n",
       "    .dataframe thead th {\n",
       "        text-align: right;\n",
       "    }\n",
       "</style>\n",
       "<table border=\"1\" class=\"dataframe\">\n",
       "  <thead>\n",
       "    <tr style=\"text-align: right;\">\n",
       "      <th></th>\n",
       "      <th>Season</th>\n",
       "      <th>Age</th>\n",
       "      <th>Childish diseases</th>\n",
       "      <th>Accident or serious trauma</th>\n",
       "      <th>Surgical intervention</th>\n",
       "      <th>High fevers in the last year</th>\n",
       "      <th>Frequency of alcohol consumption</th>\n",
       "      <th>Smoking habit</th>\n",
       "      <th>Number of hours spent sitting per day</th>\n",
       "      <th>Diagnosis</th>\n",
       "    </tr>\n",
       "  </thead>\n",
       "  <tbody>\n",
       "    <tr>\n",
       "      <th>0</th>\n",
       "      <td>1</td>\n",
       "      <td>30</td>\n",
       "      <td>0</td>\n",
       "      <td>1</td>\n",
       "      <td>1</td>\n",
       "      <td>1</td>\n",
       "      <td>2</td>\n",
       "      <td>2</td>\n",
       "      <td>16</td>\n",
       "      <td>1</td>\n",
       "    </tr>\n",
       "    <tr>\n",
       "      <th>1</th>\n",
       "      <td>1</td>\n",
       "      <td>35</td>\n",
       "      <td>1</td>\n",
       "      <td>0</td>\n",
       "      <td>1</td>\n",
       "      <td>1</td>\n",
       "      <td>2</td>\n",
       "      <td>0</td>\n",
       "      <td>6</td>\n",
       "      <td>0</td>\n",
       "    </tr>\n",
       "    <tr>\n",
       "      <th>2</th>\n",
       "      <td>1</td>\n",
       "      <td>27</td>\n",
       "      <td>1</td>\n",
       "      <td>0</td>\n",
       "      <td>0</td>\n",
       "      <td>1</td>\n",
       "      <td>1</td>\n",
       "      <td>1</td>\n",
       "      <td>9</td>\n",
       "      <td>1</td>\n",
       "    </tr>\n",
       "    <tr>\n",
       "      <th>3</th>\n",
       "      <td>1</td>\n",
       "      <td>32</td>\n",
       "      <td>0</td>\n",
       "      <td>1</td>\n",
       "      <td>1</td>\n",
       "      <td>1</td>\n",
       "      <td>1</td>\n",
       "      <td>1</td>\n",
       "      <td>7</td>\n",
       "      <td>1</td>\n",
       "    </tr>\n",
       "    <tr>\n",
       "      <th>4</th>\n",
       "      <td>1</td>\n",
       "      <td>30</td>\n",
       "      <td>1</td>\n",
       "      <td>1</td>\n",
       "      <td>0</td>\n",
       "      <td>1</td>\n",
       "      <td>2</td>\n",
       "      <td>1</td>\n",
       "      <td>9</td>\n",
       "      <td>0</td>\n",
       "    </tr>\n",
       "    <tr>\n",
       "      <th>5</th>\n",
       "      <td>1</td>\n",
       "      <td>30</td>\n",
       "      <td>1</td>\n",
       "      <td>0</td>\n",
       "      <td>1</td>\n",
       "      <td>1</td>\n",
       "      <td>2</td>\n",
       "      <td>2</td>\n",
       "      <td>9</td>\n",
       "      <td>1</td>\n",
       "    </tr>\n",
       "    <tr>\n",
       "      <th>6</th>\n",
       "      <td>1</td>\n",
       "      <td>30</td>\n",
       "      <td>0</td>\n",
       "      <td>0</td>\n",
       "      <td>0</td>\n",
       "      <td>0</td>\n",
       "      <td>2</td>\n",
       "      <td>1</td>\n",
       "      <td>8</td>\n",
       "      <td>1</td>\n",
       "    </tr>\n",
       "    <tr>\n",
       "      <th>7</th>\n",
       "      <td>1</td>\n",
       "      <td>36</td>\n",
       "      <td>1</td>\n",
       "      <td>1</td>\n",
       "      <td>1</td>\n",
       "      <td>1</td>\n",
       "      <td>4</td>\n",
       "      <td>1</td>\n",
       "      <td>7</td>\n",
       "      <td>1</td>\n",
       "    </tr>\n",
       "    <tr>\n",
       "      <th>8</th>\n",
       "      <td>0</td>\n",
       "      <td>30</td>\n",
       "      <td>0</td>\n",
       "      <td>0</td>\n",
       "      <td>1</td>\n",
       "      <td>1</td>\n",
       "      <td>2</td>\n",
       "      <td>1</td>\n",
       "      <td>5</td>\n",
       "      <td>1</td>\n",
       "    </tr>\n",
       "    <tr>\n",
       "      <th>9</th>\n",
       "      <td>0</td>\n",
       "      <td>29</td>\n",
       "      <td>1</td>\n",
       "      <td>0</td>\n",
       "      <td>0</td>\n",
       "      <td>1</td>\n",
       "      <td>1</td>\n",
       "      <td>1</td>\n",
       "      <td>5</td>\n",
       "      <td>1</td>\n",
       "    </tr>\n",
       "  </tbody>\n",
       "</table>\n",
       "</div>"
      ],
      "text/plain": [
       "   Season  Age  Childish diseases  Accident or serious trauma  \\\n",
       "0       1   30                  0                           1   \n",
       "1       1   35                  1                           0   \n",
       "2       1   27                  1                           0   \n",
       "3       1   32                  0                           1   \n",
       "4       1   30                  1                           1   \n",
       "5       1   30                  1                           0   \n",
       "6       1   30                  0                           0   \n",
       "7       1   36                  1                           1   \n",
       "8       0   30                  0                           0   \n",
       "9       0   29                  1                           0   \n",
       "\n",
       "   Surgical intervention  High fevers in the last year  \\\n",
       "0                      1                             1   \n",
       "1                      1                             1   \n",
       "2                      0                             1   \n",
       "3                      1                             1   \n",
       "4                      0                             1   \n",
       "5                      1                             1   \n",
       "6                      0                             0   \n",
       "7                      1                             1   \n",
       "8                      1                             1   \n",
       "9                      0                             1   \n",
       "\n",
       "   Frequency of alcohol consumption  Smoking habit  \\\n",
       "0                                 2              2   \n",
       "1                                 2              0   \n",
       "2                                 1              1   \n",
       "3                                 1              1   \n",
       "4                                 2              1   \n",
       "5                                 2              2   \n",
       "6                                 2              1   \n",
       "7                                 4              1   \n",
       "8                                 2              1   \n",
       "9                                 1              1   \n",
       "\n",
       "   Number of hours spent sitting per day  Diagnosis  \n",
       "0                                     16          1  \n",
       "1                                      6          0  \n",
       "2                                      9          1  \n",
       "3                                      7          1  \n",
       "4                                      9          0  \n",
       "5                                      9          1  \n",
       "6                                      8          1  \n",
       "7                                      7          1  \n",
       "8                                      5          1  \n",
       "9                                      5          1  "
      ]
     },
     "execution_count": 47,
     "metadata": {},
     "output_type": "execute_result"
    }
   ],
   "source": [
    "fertility.head(10)"
   ]
  },
  {
   "cell_type": "code",
   "execution_count": 48,
   "metadata": {},
   "outputs": [],
   "source": [
    "# now we can see some data and create graphs"
   ]
  },
  {
   "cell_type": "code",
   "execution_count": 49,
   "metadata": {},
   "outputs": [
    {
     "data": {
      "text/plain": [
       "<matplotlib.axes._subplots.AxesSubplot at 0x1b391588860>"
      ]
     },
     "execution_count": 49,
     "metadata": {},
     "output_type": "execute_result"
    },
    {
     "data": {
      "image/png": "[encoded data removed]",
      "text/plain": [
       "<Figure size 432x288 with 1 Axes>"
      ]
     },
     "metadata": {
      "needs_background": "light"
     },
     "output_type": "display_data"
    }
   ],
   "source": [
    "sns.countplot(fertility['Diagnosis'])"
   ]
  },
  {
   "cell_type": "code",
   "execution_count": 50,
   "metadata": {},
   "outputs": [],
   "source": [
    "# we can see that most cases in fertility are normal, but some of them are altered"
   ]
  },
  {
   "cell_type": "code",
   "execution_count": 51,
   "metadata": {},
   "outputs": [],
   "source": [
    "# separate data\n",
    "\n",
    "X = fertility.drop('Diagnosis', axis=1)\n",
    "y = fertility['Diagnosis']"
   ]
  },
  {
   "cell_type": "code",
   "execution_count": 52,
   "metadata": {},
   "outputs": [],
   "source": [
    "X_train,X_test,y_train,y_test=train_test_split(X,y,test_size=0.3,random_state=0)"
   ]
  },
  {
   "cell_type": "code",
   "execution_count": 53,
   "metadata": {},
   "outputs": [],
   "source": [
    "# First we will se without standard scaler and after with to see is there any difference on this dataset?"
   ]
  },
  {
   "cell_type": "markdown",
   "metadata": {},
   "source": [
    "Random Forest Class"
   ]
  },
  {
   "cell_type": "code",
   "execution_count": 54,
   "metadata": {},
   "outputs": [
    {
     "data": {
      "text/plain": [
       "RandomForestClassifier(bootstrap=True, class_weight=None, criterion='gini',\n",
       "            max_depth=None, max_features='auto', max_leaf_nodes=None,\n",
       "            min_impurity_decrease=0.0, min_impurity_split=None,\n",
       "            min_samples_leaf=1, min_samples_split=2,\n",
       "            min_weight_fraction_leaf=0.0, n_estimators=10, n_jobs=1,\n",
       "            oob_score=False, random_state=None, verbose=0,\n",
       "            warm_start=False)"
      ]
     },
     "execution_count": 54,
     "metadata": {},
     "output_type": "execute_result"
    }
   ],
   "source": [
    "rfc = RandomForestClassifier()\n",
    "rfc.fit(X_train,y_train)"
   ]
  },
  {
   "cell_type": "code",
   "execution_count": 55,
   "metadata": {},
   "outputs": [
    {
     "data": {
      "text/plain": [
       "array([0, 1, 1, 1, 1, 0, 1, 1, 1, 1, 1, 0, 1, 1, 1, 1, 0, 1, 1, 1, 1, 1,\n",
       "       1, 1, 1, 1, 1, 1, 1, 1], dtype=int64)"
      ]
     },
     "execution_count": 55,
     "metadata": {},
     "output_type": "execute_result"
    }
   ],
   "source": [
    "rfc_pred=rfc.predict(X_test)\n",
    "rfc_pred"
   ]
  },
  {
   "cell_type": "code",
   "execution_count": 56,
   "metadata": {},
   "outputs": [],
   "source": [
    "#let's see accuracy of the model!!"
   ]
  },
  {
   "cell_type": "code",
   "execution_count": 57,
   "metadata": {},
   "outputs": [
    {
     "name": "stdout",
     "output_type": "stream",
     "text": [
      "             precision    recall  f1-score   support\n",
      "\n",
      "          0       0.50      1.00      0.67         2\n",
      "          1       1.00      0.93      0.96        28\n",
      "\n",
      "avg / total       0.97      0.93      0.94        30\n",
      "\n",
      "[[ 2  0]\n",
      " [ 2 26]]\n"
     ]
    }
   ],
   "source": [
    "print(classification_report(y_test,rfc_pred))\n",
    "print(confusion_matrix(y_test,rfc_pred))"
   ]
  },
  {
   "cell_type": "code",
   "execution_count": 58,
   "metadata": {},
   "outputs": [],
   "source": [
    "#really great result!!"
   ]
  },
  {
   "cell_type": "markdown",
   "metadata": {},
   "source": [
    "SVM"
   ]
  },
  {
   "cell_type": "code",
   "execution_count": 59,
   "metadata": {},
   "outputs": [],
   "source": [
    "clf=svm.SVC()"
   ]
  },
  {
   "cell_type": "code",
   "execution_count": 61,
   "metadata": {},
   "outputs": [
    {
     "data": {
      "text/plain": [
       "array([1, 1, 1, 1, 1, 1, 1, 1, 1, 1, 1, 1, 1, 1, 1, 1, 1, 1, 1, 1, 1, 1,\n",
       "       1, 1, 1, 1, 1, 1, 1, 1], dtype=int64)"
      ]
     },
     "execution_count": 61,
     "metadata": {},
     "output_type": "execute_result"
    }
   ],
   "source": [
    "clf.fit(X_train,y_train)\n",
    "clf_pred=clf.predict(X_test)\n",
    "clf_pred"
   ]
  },
  {
   "cell_type": "code",
   "execution_count": 62,
   "metadata": {},
   "outputs": [
    {
     "name": "stdout",
     "output_type": "stream",
     "text": [
      "             precision    recall  f1-score   support\n",
      "\n",
      "          0       0.00      0.00      0.00         2\n",
      "          1       0.93      1.00      0.97        28\n",
      "\n",
      "avg / total       0.87      0.93      0.90        30\n",
      "\n",
      "[[ 0  2]\n",
      " [ 0 28]]\n"
     ]
    },
    {
     "name": "stderr",
     "output_type": "stream",
     "text": [
      "C:\\Users\\Hana\\Anaconda3\\lib\\site-packages\\sklearn\\metrics\\classification.py:1135: UndefinedMetricWarning: Precision and F-score are ill-defined and being set to 0.0 in labels with no predicted samples.\n",
      "  'precision', 'predicted', average, warn_for)\n"
     ]
    }
   ],
   "source": [
    "print(classification_report(y_test,clf_pred))\n",
    "print(confusion_matrix(y_test,clf_pred))"
   ]
  },
  {
   "cell_type": "code",
   "execution_count": 63,
   "metadata": {},
   "outputs": [],
   "source": [
    "# weaker result!"
   ]
  },
  {
   "cell_type": "markdown",
   "metadata": {},
   "source": [
    "Neural Network"
   ]
  },
  {
   "cell_type": "code",
   "execution_count": 65,
   "metadata": {},
   "outputs": [
    {
     "data": {
      "text/plain": [
       "array([1, 1, 1, 1, 1, 1, 1, 1, 1, 1, 1, 1, 1, 1, 1, 1, 1, 1, 1, 1, 1, 1,\n",
       "       1, 1, 1, 1, 1, 1, 1, 1], dtype=int64)"
      ]
     },
     "execution_count": 65,
     "metadata": {},
     "output_type": "execute_result"
    }
   ],
   "source": [
    "nlpc=MLPClassifier(hidden_layer_sizes=(11,11,11), max_iter=500)\n",
    "nlpc.fit(X_train,y_train)\n",
    "nlpc_pred=nlpc.predict(X_test)\n",
    "nlpc_pred"
   ]
  },
  {
   "cell_type": "code",
   "execution_count": 66,
   "metadata": {
    "scrolled": true
   },
   "outputs": [
    {
     "name": "stdout",
     "output_type": "stream",
     "text": [
      "             precision    recall  f1-score   support\n",
      "\n",
      "          0       0.00      0.00      0.00         2\n",
      "          1       0.93      1.00      0.97        28\n",
      "\n",
      "avg / total       0.87      0.93      0.90        30\n",
      "\n",
      "[[ 0  2]\n",
      " [ 0 28]]\n"
     ]
    },
    {
     "name": "stderr",
     "output_type": "stream",
     "text": [
      "C:\\Users\\Hana\\Anaconda3\\lib\\site-packages\\sklearn\\metrics\\classification.py:1135: UndefinedMetricWarning: Precision and F-score are ill-defined and being set to 0.0 in labels with no predicted samples.\n",
      "  'precision', 'predicted', average, warn_for)\n"
     ]
    }
   ],
   "source": [
    "print(classification_report(y_test,nlpc_pred))\n",
    "print(confusion_matrix(y_test,nlpc_pred))"
   ]
  },
  {
   "cell_type": "code",
   "execution_count": 67,
   "metadata": {},
   "outputs": [],
   "source": [
    "# same as svm"
   ]
  },
  {
   "cell_type": "markdown",
   "metadata": {},
   "source": [
    "With Satndard SCaler"
   ]
  },
  {
   "cell_type": "code",
   "execution_count": 68,
   "metadata": {},
   "outputs": [],
   "source": [
    "sc=StandardScaler()\n",
    "X_train=sc.fit_transform(X_train)\n",
    "X_test=sc.transform(X_test)"
   ]
  },
  {
   "cell_type": "code",
   "execution_count": 69,
   "metadata": {},
   "outputs": [
    {
     "data": {
      "text/plain": [
       "array([[-1.0472242 , -0.93610908, -2.60341656, -0.94440028, -0.94440028,\n",
       "         1.33333333,  0.06654846,  1.35607299,  0.13949187],\n",
       "       [-0.19483241,  2.16317098,  0.38411064,  1.05887304, -0.94440028,\n",
       "         1.33333333, -0.86513002, -0.01965323, -0.03621768],\n",
       "       [-0.19483241,  1.27766239,  0.38411064,  1.05887304,  1.05887304,\n",
       "         1.33333333,  0.06654846, -0.01965323, -0.13662314],\n",
       "       [-0.19483241, -1.37886337,  0.38411064, -0.94440028, -0.94440028,\n",
       "         1.33333333,  0.06654846,  1.35607299, -0.1617245 ],\n",
       "       [-0.19483241, -0.93610908,  0.38411064,  1.05887304, -0.94440028,\n",
       "         1.33333333, -0.86513002, -0.01965323,  0.03908641],\n",
       "       [-1.0472242 ,  0.8349081 ,  0.38411064,  1.05887304, -0.94440028,\n",
       "         1.33333333,  1.92990543, -0.01965323, -0.13662314],\n",
       "       [-1.0472242 ,  0.8349081 ,  0.38411064,  1.05887304,  1.05887304,\n",
       "        -0.33333333, -0.86513002, -1.39537945, -0.18682587],\n",
       "       [-0.19483241, -0.93610908,  0.38411064,  1.05887304, -0.94440028,\n",
       "        -0.33333333,  0.06654846,  1.35607299,  0.03908641],\n",
       "       [ 1.50995117, -0.93610908,  0.38411064, -0.94440028, -0.94440028,\n",
       "         1.33333333, -0.86513002, -0.01965323, -0.08642041],\n",
       "       [ 1.50995117, -0.93610908,  0.38411064, -0.94440028, -0.94440028,\n",
       "         1.33333333,  0.06654846, -0.01965323, -0.03621768],\n",
       "       [-0.19483241,  2.16317098,  0.38411064, -0.94440028,  1.05887304,\n",
       "        -0.33333333,  0.06654846, -1.39537945, -0.1617245 ],\n",
       "       [ 1.50995117, -0.05060049,  0.38411064, -0.94440028, -0.94440028,\n",
       "         1.33333333, -0.86513002, -1.39537945, -0.18682587],\n",
       "       [ 1.50995117, -0.93610908,  0.38411064, -0.94440028,  1.05887304,\n",
       "        -2.        ,  0.06654846, -1.39537945, -0.08642041],\n",
       "       [ 1.50995117, -0.93610908,  0.38411064,  1.05887304, -0.94440028,\n",
       "        -0.33333333,  0.06654846, -1.39537945, -0.08642041],\n",
       "       [-0.19483241, -0.05060049,  0.38411064,  1.05887304, -0.94440028,\n",
       "        -0.33333333,  0.06654846, -0.01965323, -0.08642041],\n",
       "       [-1.0472242 ,  1.27766239,  0.38411064,  1.05887304, -0.94440028,\n",
       "        -0.33333333, -0.86513002, -1.39537945, -0.08642041],\n",
       "       [-1.0472242 , -0.05060049,  0.38411064, -0.94440028,  1.05887304,\n",
       "        -0.33333333,  0.06654846, -0.01965323, -0.18682587],\n",
       "       [ 1.50995117, -0.93610908,  0.38411064,  1.05887304,  1.05887304,\n",
       "        -0.33333333,  0.06654846, -1.39537945, -0.08642041],\n",
       "       [ 1.50995117, -0.05060049, -2.60341656, -0.94440028,  1.05887304,\n",
       "        -0.33333333,  1.92990543,  1.35607299, -0.08642041],\n",
       "       [-0.19483241, -0.05060049,  0.38411064, -0.94440028,  1.05887304,\n",
       "        -0.33333333,  0.06654846,  1.35607299, -0.08642041],\n",
       "       [ 0.65755938,  0.8349081 ,  0.38411064, -0.94440028, -0.94440028,\n",
       "        -0.33333333, -0.86513002, -1.39537945, -0.28723132],\n",
       "       [-1.0472242 , -0.93610908, -2.60341656, -0.94440028, -0.94440028,\n",
       "         1.33333333,  0.06654846, -1.39537945, -0.11152177],\n",
       "       [-0.19483241, -0.05060049, -2.60341656,  1.05887304,  1.05887304,\n",
       "        -0.33333333,  0.06654846,  1.35607299,  0.08928914],\n",
       "       [-1.0472242 , -0.93610908,  0.38411064,  1.05887304,  1.05887304,\n",
       "        -0.33333333, -0.86513002, -0.01965323, -0.03621768],\n",
       "       [-1.0472242 , -0.93610908, -2.60341656, -0.94440028,  1.05887304,\n",
       "        -0.33333333, -0.86513002, -0.01965323, -0.2370286 ],\n",
       "       [-0.19483241, -0.05060049,  0.38411064, -0.94440028,  1.05887304,\n",
       "        -0.33333333,  0.06654846, -0.01965323,  8.27233384],\n",
       "       [-1.0472242 ,  0.8349081 ,  0.38411064,  1.05887304,  1.05887304,\n",
       "        -0.33333333,  1.92990543,  1.35607299, -0.26212996],\n",
       "       [ 1.50995117,  0.8349081 ,  0.38411064,  1.05887304, -0.94440028,\n",
       "         1.33333333,  1.92990543, -0.01965323, -0.13662314],\n",
       "       [-1.0472242 , -0.05060049,  0.38411064, -0.94440028,  1.05887304,\n",
       "        -2.        , -0.86513002, -0.01965323, -0.11152177],\n",
       "       [-0.19483241, -0.93610908,  0.38411064,  1.05887304, -0.94440028,\n",
       "        -0.33333333,  0.06654846,  1.35607299, -0.08642041],\n",
       "       [-1.0472242 , -0.05060049,  0.38411064,  1.05887304, -0.94440028,\n",
       "        -2.        ,  0.06654846,  1.35607299, -0.1617245 ],\n",
       "       [-1.0472242 , -0.93610908,  0.38411064, -0.94440028, -0.94440028,\n",
       "        -0.33333333, -0.86513002, -0.01965323, -0.11152177],\n",
       "       [-0.19483241, -1.37886337,  0.38411064,  1.05887304, -0.94440028,\n",
       "        -2.        ,  0.06654846,  1.35607299,  0.08928914],\n",
       "       [-0.19483241, -0.05060049,  0.38411064,  1.05887304,  1.05887304,\n",
       "        -2.        , -0.86513002, -0.01965323,  0.03908641],\n",
       "       [ 1.50995117,  2.60592527,  0.38411064, -0.94440028,  1.05887304,\n",
       "         1.33333333,  1.92990543,  1.35607299, -0.18682587],\n",
       "       [-0.19483241,  1.72041669,  0.38411064,  1.05887304, -0.94440028,\n",
       "        -0.33333333,  1.92990543, -1.39537945, -0.1617245 ],\n",
       "       [-1.0472242 , -0.05060049, -2.60341656, -0.94440028, -0.94440028,\n",
       "        -0.33333333, -0.86513002, -0.01965323, -0.03621768],\n",
       "       [-0.19483241,  0.8349081 ,  0.38411064, -0.94440028, -0.94440028,\n",
       "         1.33333333, -0.86513002, -1.39537945, -0.28723132],\n",
       "       [-1.0472242 ,  2.16317098,  0.38411064,  1.05887304,  1.05887304,\n",
       "        -0.33333333,  0.99822695, -0.01965323, -0.18682587],\n",
       "       [-0.19483241,  1.27766239,  0.38411064,  1.05887304,  1.05887304,\n",
       "        -0.33333333, -0.86513002, -1.39537945, -0.13662314],\n",
       "       [-1.0472242 , -0.05060049,  0.38411064, -0.94440028, -0.94440028,\n",
       "        -0.33333333,  0.06654846, -1.39537945, -0.13662314],\n",
       "       [-1.0472242 , -0.05060049, -2.60341656, -0.94440028,  1.05887304,\n",
       "        -0.33333333,  1.92990543,  1.35607299, -0.08642041],\n",
       "       [-0.19483241,  0.8349081 ,  0.38411064,  1.05887304,  1.05887304,\n",
       "        -0.33333333,  1.92990543, -0.01965323, -0.2370286 ],\n",
       "       [ 1.50995117, -0.05060049,  0.38411064,  1.05887304,  1.05887304,\n",
       "        -0.33333333, -0.86513002, -0.01965323, -0.1617245 ],\n",
       "       [ 1.50995117, -0.05060049,  0.38411064, -0.94440028,  1.05887304,\n",
       "        -0.33333333, -0.86513002,  1.35607299, -0.2370286 ],\n",
       "       [-0.19483241, -1.37886337,  0.38411064, -0.94440028,  1.05887304,\n",
       "        -2.        ,  0.06654846, -0.01965323, -0.08642041],\n",
       "       [-1.0472242 , -0.05060049, -2.60341656, -0.94440028,  1.05887304,\n",
       "        -0.33333333,  0.06654846, -0.01965323, -0.18682587],\n",
       "       [-1.0472242 , -0.93610908,  0.38411064, -0.94440028, -0.94440028,\n",
       "        -0.33333333,  1.92990543, -1.39537945, -0.08642041],\n",
       "       [-1.0472242 , -0.93610908,  0.38411064, -0.94440028, -0.94440028,\n",
       "         1.33333333,  1.92990543,  1.35607299, -0.08642041],\n",
       "       [ 1.50995117,  0.3921538 ,  0.38411064,  1.05887304,  1.05887304,\n",
       "         1.33333333,  0.06654846, -0.01965323, -0.2370286 ],\n",
       "       [-1.0472242 , -0.05060049,  0.38411064, -0.94440028, -0.94440028,\n",
       "        -0.33333333, -0.86513002, -0.01965323, -0.18682587],\n",
       "       [ 1.50995117, -0.93610908,  0.38411064, -0.94440028,  1.05887304,\n",
       "        -0.33333333, -0.86513002, -0.01965323, -0.03621768],\n",
       "       [ 1.50995117,  1.27766239,  0.38411064,  1.05887304,  1.05887304,\n",
       "         1.33333333,  0.06654846,  1.35607299, -0.2370286 ],\n",
       "       [-0.19483241, -0.93610908,  0.38411064, -0.94440028, -0.94440028,\n",
       "        -0.33333333, -0.86513002, -0.01965323, -0.03621768],\n",
       "       [ 1.50995117, -0.05060049,  0.38411064, -0.94440028, -0.94440028,\n",
       "        -0.33333333, -0.86513002, -0.01965323, -0.1617245 ],\n",
       "       [-0.19483241, -0.93610908, -2.60341656, -0.94440028,  1.05887304,\n",
       "        -0.33333333, -0.86513002, -0.01965323, -0.06131905],\n",
       "       [-0.19483241, -0.93610908,  0.38411064,  1.05887304, -0.94440028,\n",
       "        -0.33333333, -1.79680851, -1.39537945, -0.03621768],\n",
       "       [-1.0472242 ,  0.8349081 ,  0.38411064,  1.05887304,  1.05887304,\n",
       "        -0.33333333,  0.06654846, -1.39537945, -0.18682587],\n",
       "       [-0.19483241,  1.27766239,  0.38411064,  1.05887304,  1.05887304,\n",
       "        -0.33333333, -0.86513002, -0.01965323, -0.1617245 ],\n",
       "       [-0.19483241, -1.37886337,  0.38411064,  1.05887304, -0.94440028,\n",
       "        -2.        ,  0.06654846,  1.35607299,  0.08928914],\n",
       "       [-0.19483241,  0.8349081 ,  0.38411064,  1.05887304,  1.05887304,\n",
       "         1.33333333,  0.06654846, -1.39537945, -0.18682587],\n",
       "       [ 1.50995117,  0.8349081 ,  0.38411064, -0.94440028,  1.05887304,\n",
       "        -0.33333333, -0.86513002, -0.01965323, -0.18682587],\n",
       "       [-1.0472242 ,  0.8349081 ,  0.38411064, -0.94440028, -0.94440028,\n",
       "        -0.33333333,  1.92990543,  1.35607299, -0.18682587],\n",
       "       [-0.19483241,  1.27766239,  0.38411064,  1.05887304,  1.05887304,\n",
       "         1.33333333, -0.86513002, -0.01965323, -0.18682587],\n",
       "       [-1.0472242 , -0.49335478,  0.38411064, -0.94440028, -0.94440028,\n",
       "        -0.33333333, -0.86513002, -0.01965323, -0.18682587],\n",
       "       [ 1.50995117, -0.49335478,  0.38411064, -0.94440028, -0.94440028,\n",
       "        -0.33333333,  0.06654846,  1.35607299, -0.08642041],\n",
       "       [-0.19483241, -1.37886337,  0.38411064, -0.94440028, -0.94440028,\n",
       "         1.33333333, -0.86513002, -0.01965323, -0.11152177],\n",
       "       [ 1.50995117, -0.93610908,  0.38411064, -0.94440028, -0.94440028,\n",
       "         1.33333333,  0.06654846, -0.01965323, -0.1617245 ],\n",
       "       [-0.19483241,  0.3921538 ,  0.38411064,  1.05887304, -0.94440028,\n",
       "        -0.33333333,  1.92990543, -1.39537945, -0.2370286 ],\n",
       "       [ 1.50995117, -0.93610908,  0.38411064,  1.05887304, -0.94440028,\n",
       "         1.33333333, -0.86513002,  1.35607299, -0.1617245 ]])"
      ]
     },
     "execution_count": 69,
     "metadata": {},
     "output_type": "execute_result"
    }
   ],
   "source": [
    "X_train"
   ]
  },
  {
   "cell_type": "markdown",
   "metadata": {},
   "source": [
    "Random Forest Class"
   ]
  },
  {
   "cell_type": "code",
   "execution_count": 70,
   "metadata": {},
   "outputs": [
    {
     "data": {
      "text/plain": [
       "RandomForestClassifier(bootstrap=True, class_weight=None, criterion='gini',\n",
       "            max_depth=None, max_features='auto', max_leaf_nodes=None,\n",
       "            min_impurity_decrease=0.0, min_impurity_split=None,\n",
       "            min_samples_leaf=1, min_samples_split=2,\n",
       "            min_weight_fraction_leaf=0.0, n_estimators=10, n_jobs=1,\n",
       "            oob_score=False, random_state=None, verbose=0,\n",
       "            warm_start=False)"
      ]
     },
     "execution_count": 70,
     "metadata": {},
     "output_type": "execute_result"
    }
   ],
   "source": [
    "rfc2 = RandomForestClassifier()\n",
    "rfc2.fit(X_train,y_train)"
   ]
  },
  {
   "cell_type": "code",
   "execution_count": 71,
   "metadata": {},
   "outputs": [
    {
     "name": "stdout",
     "output_type": "stream",
     "text": [
      "             precision    recall  f1-score   support\n",
      "\n",
      "          0       0.50      0.50      0.50         2\n",
      "          1       0.96      0.96      0.96        28\n",
      "\n",
      "avg / total       0.93      0.93      0.93        30\n",
      "\n",
      "[[ 1  1]\n",
      " [ 1 27]]\n"
     ]
    }
   ],
   "source": [
    "rfc2_pred=rfc2.predict(X_test)\n",
    "print(classification_report(y_test,rfc2_pred))\n",
    "print(confusion_matrix(y_test,rfc2_pred))"
   ]
  },
  {
   "cell_type": "code",
   "execution_count": 72,
   "metadata": {},
   "outputs": [],
   "source": [
    "#better precision and we have smaller accuracy!!"
   ]
  },
  {
   "cell_type": "markdown",
   "metadata": {},
   "source": [
    "SVM"
   ]
  },
  {
   "cell_type": "code",
   "execution_count": 73,
   "metadata": {},
   "outputs": [
    {
     "data": {
      "text/plain": [
       "array([1, 1, 1, 1, 1, 1, 1, 1, 1, 1, 1, 1, 1, 1, 1, 1, 1, 1, 1, 1, 1, 1,\n",
       "       1, 1, 1, 1, 1, 1, 1, 1], dtype=int64)"
      ]
     },
     "execution_count": 73,
     "metadata": {},
     "output_type": "execute_result"
    }
   ],
   "source": [
    "clf2=svm.SVC()\n",
    "clf2.fit(X_train,y_train)\n",
    "clf2_pred=clf2.predict(X_test)\n",
    "clf2_pred"
   ]
  },
  {
   "cell_type": "code",
   "execution_count": 74,
   "metadata": {},
   "outputs": [
    {
     "name": "stdout",
     "output_type": "stream",
     "text": [
      "             precision    recall  f1-score   support\n",
      "\n",
      "          0       0.00      0.00      0.00         2\n",
      "          1       0.93      1.00      0.97        28\n",
      "\n",
      "avg / total       0.87      0.93      0.90        30\n",
      "\n",
      "[[ 0  2]\n",
      " [ 0 28]]\n"
     ]
    },
    {
     "name": "stderr",
     "output_type": "stream",
     "text": [
      "C:\\Users\\Hana\\Anaconda3\\lib\\site-packages\\sklearn\\metrics\\classification.py:1135: UndefinedMetricWarning: Precision and F-score are ill-defined and being set to 0.0 in labels with no predicted samples.\n",
      "  'precision', 'predicted', average, warn_for)\n"
     ]
    }
   ],
   "source": [
    "print(classification_report(y_test,clf2_pred))\n",
    "print(confusion_matrix(y_test,clf2_pred))"
   ]
  },
  {
   "cell_type": "code",
   "execution_count": 75,
   "metadata": {},
   "outputs": [],
   "source": [
    "#same result"
   ]
  },
  {
   "cell_type": "raw",
   "metadata": {},
   "source": [
    "Neural Network"
   ]
  },
  {
   "cell_type": "code",
   "execution_count": 76,
   "metadata": {},
   "outputs": [
    {
     "data": {
      "text/plain": [
       "array([0, 1, 1, 1, 1, 0, 1, 1, 1, 1, 0, 1, 1, 1, 1, 1, 1, 1, 1, 1, 1, 1,\n",
       "       1, 1, 1, 1, 1, 1, 0, 1], dtype=int64)"
      ]
     },
     "execution_count": 76,
     "metadata": {},
     "output_type": "execute_result"
    }
   ],
   "source": [
    "nlpc2=MLPClassifier(hidden_layer_sizes=(11,11,11), max_iter=500)\n",
    "nlpc2.fit(X_train,y_train)\n",
    "nlpc2_pred=nlpc2.predict(X_test)\n",
    "nlpc2_pred"
   ]
  },
  {
   "cell_type": "code",
   "execution_count": 77,
   "metadata": {},
   "outputs": [
    {
     "name": "stdout",
     "output_type": "stream",
     "text": [
      "             precision    recall  f1-score   support\n",
      "\n",
      "          0       0.50      1.00      0.67         2\n",
      "          1       1.00      0.93      0.96        28\n",
      "\n",
      "avg / total       0.97      0.93      0.94        30\n",
      "\n",
      "[[ 2  0]\n",
      " [ 2 26]]\n"
     ]
    }
   ],
   "source": [
    "print(classification_report(y_test,nlpc2_pred))\n",
    "print(confusion_matrix(y_test,nlpc2_pred))"
   ]
  },
  {
   "cell_type": "code",
   "execution_count": 78,
   "metadata": {},
   "outputs": [],
   "source": [
    "#Great accuracy!!!!!!!!!!!!!!!!!"
   ]
  },
  {
   "cell_type": "markdown",
   "metadata": {},
   "source": [
    "1. When we didn't normlaize values than the greatest accuracy was given by Random Forest Class - 97%\n",
    "2. whwn we did normalize values than the greatest accuracy was given vy Neural Netwroks - 97%"
   ]
  },
  {
   "cell_type": "code",
   "execution_count": null,
   "metadata": {},
   "outputs": [],
   "source": []
  }
 ],
 "metadata": {
  "kernelspec": {
   "display_name": "Python 3",
   "language": "python",
   "name": "python3"
  },
  "language_info": {
   "codemirror_mode": {
    "name": "ipython",
    "version": 3
   },
   "file_extension": ".py",
   "mimetype": "text/x-python",
   "name": "python",
   "nbconvert_exporter": "python",
   "pygments_lexer": "ipython3",
   "version": "3.7.0"
  }
 },
 "nbformat": 4,
 "nbformat_minor": 2
}
